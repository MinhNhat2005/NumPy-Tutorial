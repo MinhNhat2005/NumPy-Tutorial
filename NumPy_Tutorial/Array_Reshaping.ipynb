{
 "cells": [
  {
   "cell_type": "markdown",
   "id": "3d2a9fbd-4786-43a6-a97d-7538aacccfaa",
   "metadata": {},
   "source": [
    "<span style=\"font-size: 25px;\">Định hình lại mảng NumPy</span>\n"
   ]
  },
  {
   "cell_type": "code",
   "execution_count": 3,
   "id": "d3d0d244-48d7-409c-8c8c-36445be650c8",
   "metadata": {},
   "outputs": [
    {
     "name": "stdout",
     "output_type": "stream",
     "text": [
      "[[ 1  2  3]\n",
      " [ 4  5  6]\n",
      " [ 7  8  9]\n",
      " [10 11 12]]\n"
     ]
    }
   ],
   "source": [
    "# Định hình lại từ 1-D sang 2-D\n",
    "# VD: Chuyển đổi mảng 1-D thành mảng 2-D (12 phần từ từ mảng 1-D thành 4 mảng với mỗi mảng 3 phần tử)\n",
    "import numpy as np\n",
    "arr = np.array([1,2,3,4,5,6,7,8,9,10,11,12])\n",
    "newarr = arr.reshape(4,3)\n",
    "print(newarr)"
   ]
  },
  {
   "cell_type": "code",
   "execution_count": 6,
   "id": "33bc4f64-039c-4b04-b91b-0797408b9844",
   "metadata": {},
   "outputs": [
    {
     "name": "stdout",
     "output_type": "stream",
     "text": [
      "[[[ 1  2  3]\n",
      "  [ 4  5  6]]\n",
      "\n",
      " [[ 7  8  9]\n",
      "  [10 11 12]]]\n"
     ]
    }
   ],
   "source": [
    "# Chuyển đổi mảng 1-D sang mảng 3-D (chiều ngoài cùng có 2 mảng chứa 2 mảng, mỗi mảng 3 phần tử)\n",
    "import numpy as np\n",
    "arr = np.array([1,2,3,4,5,6,7,8,9,10,11,12])\n",
    "newarr = arr.reshape(2,2,3)\n",
    "print(newarr)"
   ]
  },
  {
   "cell_type": "code",
   "execution_count": 8,
   "id": "07efde8a-6f1e-484d-b344-e9a8fe386fa8",
   "metadata": {},
   "outputs": [
    {
     "name": "stdout",
     "output_type": "stream",
     "text": [
      "[[[ 1  2]\n",
      "  [ 3  4]\n",
      "  [ 5  6]]\n",
      "\n",
      " [[ 7  8]\n",
      "  [ 9 10]\n",
      "  [11 12]]]\n",
      "[[ 1  2  3  4]\n",
      " [ 5  6  7  8]\n",
      " [ 9 10 11 12]]\n"
     ]
    }
   ],
   "source": [
    "# Kiểm tra mảng trả về là bản sao hay chế độ xem\n",
    "import numpy as np\n",
    "arr = np.array([[1,2,3,4],[5,6,7,8],[9,10,11,12]])\n",
    "newarr = arr.reshape(2,3,2)\n",
    "print(newarr)\n",
    "print(newarr.base)"
   ]
  },
  {
   "cell_type": "code",
   "execution_count": 9,
   "id": "551e386e-5e37-464e-ba76-8673e7ef1537",
   "metadata": {},
   "outputs": [
    {
     "name": "stdout",
     "output_type": "stream",
     "text": [
      "[[[1 2]\n",
      "  [3 4]]\n",
      "\n",
      " [[5 6]\n",
      "  [7 8]]]\n"
     ]
    }
   ],
   "source": [
    "# chuyển đổi mảng 1-D với 8 phần tử sang mảng 3-D với phần tử 2x2\n",
    "import numpy as np\n",
    "arr = np.array([1,2,3,4,5,6,7,8])\n",
    "newarr= arr.reshape(2,2,-1)\n",
    "print(newarr)"
   ]
  },
  {
   "cell_type": "markdown",
   "id": "c13768cc-655c-4355-94cb-569830284211",
   "metadata": {},
   "source": [
    "<span style=\"font-size: 30px;\">Làm phẳng các mảng</span>\n"
   ]
  },
  {
   "cell_type": "code",
   "execution_count": 17,
   "id": "eee93111-3279-442e-aeed-e9d5ea7ef0ce",
   "metadata": {},
   "outputs": [
    {
     "name": "stdout",
     "output_type": "stream",
     "text": [
      "[1 2 3 4 5 6]\n"
     ]
    }
   ],
   "source": [
    "# làm phẳng các mảng có nghĩa là chuyển đổi mảng đa chiều thành mảng 1-D\n",
    "import numpy as np\n",
    "arr = np.array([[1,2,3],[4,5,6]])\n",
    "newarr = arr.reshape(-1)\n",
    "print(newarr)"
   ]
  },
  {
   "cell_type": "code",
   "execution_count": null,
   "id": "3feb4d08-c31f-453f-8b84-a806aaa2066f",
   "metadata": {},
   "outputs": [],
   "source": []
  }
 ],
 "metadata": {
  "kernelspec": {
   "display_name": "Python [conda env:base] *",
   "language": "python",
   "name": "conda-base-py"
  },
  "language_info": {
   "codemirror_mode": {
    "name": "ipython",
    "version": 3
   },
   "file_extension": ".py",
   "mimetype": "text/x-python",
   "name": "python",
   "nbconvert_exporter": "python",
   "pygments_lexer": "ipython3",
   "version": "3.13.5"
  }
 },
 "nbformat": 4,
 "nbformat_minor": 5
}
