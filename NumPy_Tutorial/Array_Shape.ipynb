{
 "cells": [
  {
   "cell_type": "code",
   "execution_count": 1,
   "id": "64bf8147-e515-4ad9-8a8d-f1a498af9a5e",
   "metadata": {},
   "outputs": [],
   "source": [
    "# Hình dạng mảng NumPy\n",
    "# Hình dạng của một mảng là số lượng phần tử trong mỗi chiều"
   ]
  },
  {
   "cell_type": "code",
   "execution_count": 2,
   "id": "1e16c25a-4f4c-4d1b-8adb-293548ee88e4",
   "metadata": {},
   "outputs": [
    {
     "name": "stdout",
     "output_type": "stream",
     "text": [
      "(2, 4)\n"
     ]
    }
   ],
   "source": [
    "# in hình dạng của mảng 2D\n",
    "import numpy as np\n",
    "arr = np.array([[1,2,3,4],[5,6,7,8]])\n",
    "print(arr.shape)"
   ]
  },
  {
   "cell_type": "code",
   "execution_count": 3,
   "id": "74a4f09c-e7a3-4182-af55-0e9a2ed0221c",
   "metadata": {},
   "outputs": [
    {
     "name": "stdout",
     "output_type": "stream",
     "text": [
      "[[[[[1 2 3 4]]]]]\n",
      "Shape of array : (1, 1, 1, 1, 4)\n"
     ]
    }
   ],
   "source": [
    "# Tạo 1 mảng 5 chiều bằng cách sử dụng 1 vecto có giá trị 1,2,3,4 và xác minh tằng chiều cuối cùng có giá trị 4: ndmin\n",
    "import numpy as np\n",
    "arr = np.array([1,2,3,4], ndmin= 5)\n",
    "print(arr)\n",
    "print(\"Shape of array :\", arr.shape)"
   ]
  },
  {
   "cell_type": "code",
   "execution_count": null,
   "id": "df61216a-93a4-43fe-af92-920e9fa43cc0",
   "metadata": {},
   "outputs": [],
   "source": []
  }
 ],
 "metadata": {
  "kernelspec": {
   "display_name": "Python [conda env:base] *",
   "language": "python",
   "name": "conda-base-py"
  },
  "language_info": {
   "codemirror_mode": {
    "name": "ipython",
    "version": 3
   },
   "file_extension": ".py",
   "mimetype": "text/x-python",
   "name": "python",
   "nbconvert_exporter": "python",
   "pygments_lexer": "ipython3",
   "version": "3.13.5"
  }
 },
 "nbformat": 4,
 "nbformat_minor": 5
}
