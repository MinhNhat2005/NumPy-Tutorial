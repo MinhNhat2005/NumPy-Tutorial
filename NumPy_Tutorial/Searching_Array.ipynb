{
 "cells": [
  {
   "cell_type": "markdown",
   "id": "58351e57-8184-4331-9911-4a44cee681af",
   "metadata": {},
   "source": [
    "<span style=\"font-size:24px\">Tìm kiếm mảng</span>\n"
   ]
  },
  {
   "cell_type": "code",
   "execution_count": 2,
   "id": "6bc7eaac-66fb-4999-845f-178ffe89825a",
   "metadata": {},
   "outputs": [
    {
     "name": "stdout",
     "output_type": "stream",
     "text": [
      "(array([3, 5, 6]),)\n"
     ]
    }
   ],
   "source": [
    "# Tìm các chỉ mục có giá trị là 4\n",
    "import numpy as np\n",
    "arr = np.array([1,2,3,4,5,4,4])\n",
    "x = np.where(arr ==4)\n",
    "print(x)\n"
   ]
  },
  {
   "cell_type": "code",
   "execution_count": 23,
   "id": "1573fde3-0690-4706-826a-e040df391a1c",
   "metadata": {},
   "outputs": [
    {
     "name": "stdout",
     "output_type": "stream",
     "text": [
      "(array([1, 3, 5, 6]),)\n"
     ]
    }
   ],
   "source": [
    "# tìm các chỉ mục có giá trị chẵn\n",
    "import numpy as np\n",
    "arr = np.array([1,2,3,4,5,4,4])\n",
    "x = np.where(arr%2 ==0)\n",
    "print(x)"
   ]
  },
  {
   "cell_type": "code",
   "execution_count": 4,
   "id": "22256896-00ae-4202-8692-2c50824edce6",
   "metadata": {},
   "outputs": [
    {
     "name": "stdout",
     "output_type": "stream",
     "text": [
      "(array([0, 2, 4]),)\n"
     ]
    }
   ],
   "source": [
    "# tìm các chỉ mục có giá trị lẻ\n",
    "import numpy as np\n",
    "arr = np.array([1,2,3,4,5,4,4])\n",
    "x = np.where(arr%2 != 0)\n",
    "print(x)"
   ]
  },
  {
   "cell_type": "markdown",
   "id": "24164639-0a23-4449-abc4-fed2c2cebd75",
   "metadata": {},
   "source": [
    "<span style=\"font-size:24px\">Tìm kiếm được sắp xếp</span>\n"
   ]
  },
  {
   "cell_type": "code",
   "execution_count": 9,
   "id": "7b19f986-3d6d-4624-b34f-fa53546003e9",
   "metadata": {},
   "outputs": [
    {
     "name": "stdout",
     "output_type": "stream",
     "text": [
      "1\n"
     ]
    }
   ],
   "source": [
    "# tìm các chỉ mục nơi giá trị 7 sẽ được chèn vào (phần tử sẽ được chèn vào trước phần tử bằng nớ)\n",
    "import numpy as np\n",
    "arr = np.array([6,7,8,9])\n",
    "x = np.searchsorted(arr,7)\n",
    "print(x)"
   ]
  },
  {
   "cell_type": "code",
   "execution_count": 22,
   "id": "b9862c98-0c42-4ec7-ad7b-0cb4b49bac4c",
   "metadata": {},
   "outputs": [
    {
     "name": "stdout",
     "output_type": "stream",
     "text": [
      "2\n"
     ]
    }
   ],
   "source": [
    "# tìm các chỉ mục nơi giá trị 7 sẽ được chèn vào, bắt đầu từ bên phải (phần tử sẽ được chèn vào sau phần tử bằng nớ)\n",
    "import numpy as np\n",
    "arr = np.array([6,7,8,9])\n",
    "x = np.searchsorted(arr, 7, side='right')\n",
    "print(x)"
   ]
  },
  {
   "cell_type": "code",
   "execution_count": 26,
   "id": "37c2e39c-c64d-4986-9f95-654ab8637b8e",
   "metadata": {},
   "outputs": [
    {
     "name": "stdout",
     "output_type": "stream",
     "text": [
      "[1 1 4]\n"
     ]
    }
   ],
   "source": [
    "# Tìm các chỉ mục nơi các giá trị 2, 5, 10 sẽ được chèn vào\n",
    "import numpy as np\n",
    "arr = np.array([1,6,8,9])\n",
    "x = np.searchsorted(arr, [2,5,10])\n",
    "print(x)"
   ]
  },
  {
   "cell_type": "code",
   "execution_count": null,
   "id": "13a92e42-c96e-415f-8f44-b9165f3df893",
   "metadata": {},
   "outputs": [],
   "source": []
  }
 ],
 "metadata": {
  "kernelspec": {
   "display_name": "Python [conda env:base] *",
   "language": "python",
   "name": "conda-base-py"
  },
  "language_info": {
   "codemirror_mode": {
    "name": "ipython",
    "version": 3
   },
   "file_extension": ".py",
   "mimetype": "text/x-python",
   "name": "python",
   "nbconvert_exporter": "python",
   "pygments_lexer": "ipython3",
   "version": "3.13.5"
  }
 },
 "nbformat": 4,
 "nbformat_minor": 5
}
