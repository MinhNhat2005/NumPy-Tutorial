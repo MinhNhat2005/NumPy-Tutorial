{
 "cells": [
  {
   "cell_type": "markdown",
   "id": "af3c4de8-076f-4129-84b1-f78369ecdaa6",
   "metadata": {},
   "source": [
    "<span style=\"font-size:30px\">Truy cập các phần tử mảng</span>\n"
   ]
  },
  {
   "cell_type": "code",
   "execution_count": null,
   "id": "91a3d25e-4415-418c-b15c-c5ade5c8f395",
   "metadata": {},
   "outputs": [],
   "source": [
    "# Lập chỉ mục mảng NumPy\n",
    "  # Lấy phần tử đầu tiên, thứ 2 của mảng sau\n",
    "import numpy as np\n",
    "arr = np.array([1,2,4,5])\n",
    "print(arr[0])\n",
    "print(arr[1])"
   ]
  },
  {
   "cell_type": "code",
   "execution_count": 8,
   "id": "9c15de4b-38d8-4ebe-ba52-d910cab9a0bc",
   "metadata": {},
   "outputs": [
    {
     "name": "stdout",
     "output_type": "stream",
     "text": [
      "4 5\n",
      "[4 5]\n"
     ]
    }
   ],
   "source": [
    "# lấy các phần tử thứ 3 và thứ 4 trong mảng\n",
    "import numpy as np\n",
    "arr = np.array([1,2,4,5,6,9])\n",
    "print(arr[2] , arr[3])\n",
    "print(arr[2:4])"
   ]
  },
  {
   "cell_type": "markdown",
   "id": "21373835-076d-4aee-9cc7-3fc799ae5a84",
   "metadata": {},
   "source": [
    "<span style=\"font-size:20px\">Truy cập mảng 2-D</span>\n"
   ]
  },
  {
   "cell_type": "code",
   "execution_count": 10,
   "id": "7869a158-6631-4ace-8bde-5d5f70ea47fb",
   "metadata": {},
   "outputs": [
    {
     "name": "stdout",
     "output_type": "stream",
     "text": [
      "Hàng 1 cột 2 : 2\n",
      "Hàng 2 cột 3 : 7\n"
     ]
    }
   ],
   "source": [
    "# truy cập phần tử trên hàng đầu tiên và cột thứ 2\n",
    "import numpy as np\n",
    "arr = np.array([[1,2,3,4],[5,6,7,8]])\n",
    "print(\"Hàng 1 cột 2 :\", arr[0,1]) \n",
    "print(\"Hàng 2 cột 3 :\", arr[1,2]) \n"
   ]
  },
  {
   "cell_type": "markdown",
   "id": "83934cff-cec9-4e4a-ab83-f9210f1c5fdd",
   "metadata": {},
   "source": [
    "<span style=\"font-size:20px\">Truy cập mảng 3-D</span>\n"
   ]
  },
  {
   "cell_type": "code",
   "execution_count": 14,
   "id": "d2d5d000-1537-46e4-8a6c-f141f1c65040",
   "metadata": {},
   "outputs": [
    {
     "name": "stdout",
     "output_type": "stream",
     "text": [
      "7\n"
     ]
    }
   ],
   "source": [
    "# Truy cập phần tử thứ 3 của bảng thứ 2 của mảng đầu tiên\n",
    "import numpy as np\n",
    "arr = np.array([[[1,2,3,4],[5,6,7,8]],[[9,10,11,12],[13,14,15,16]]])\n",
    "print(arr[0, 1, 2])\n",
    "\n",
    "# Giải thích\n",
    "# Số [0]: Đại diện cho mảng thứ nhất trong 2 mảng 2-D\n",
    "# số [1]: Đại diện cho mảng thứ 2 trong 2 mảng 1-D của mảng 2-D\n",
    "# số [2]: Đại diện cho vị trí thứ 3 trong trong mảng 1-D "
   ]
  },
  {
   "cell_type": "markdown",
   "id": "5173d444-e27a-45e0-a608-0ebf1563a9d7",
   "metadata": {},
   "source": [
    "<span style=\"color:red; font-size:34px\">Lập chỉ mục tiêu cực</span>\n"
   ]
  },
  {
   "cell_type": "code",
   "execution_count": 17,
   "id": "c2c8a388-406a-457a-9882-bab7fc8a748c",
   "metadata": {},
   "outputs": [
    {
     "name": "stdout",
     "output_type": "stream",
     "text": [
      "Phần tử cuối cùng mảng thứ 2 : 10\n",
      "Phần tử cuối cùng mảng thứ 2 : 10\n"
     ]
    }
   ],
   "source": [
    "# in phần tử cuối cùng từ độ mờ thứ 2\n",
    "import numpy as np\n",
    "arr = np.array([[1,2,3,4,5],[6,7,8,9,10]])\n",
    "print(\"Phần tử cuối cùng mảng thứ 2 :\", arr[-1, -1])\n",
    "print(\"Phần tử cuối cùng mảng thứ 2 :\", arr[1, -1])"
   ]
  }
 ],
 "metadata": {
  "kernelspec": {
   "display_name": "Python [conda env:base] *",
   "language": "python",
   "name": "conda-base-py"
  },
  "language_info": {
   "codemirror_mode": {
    "name": "ipython",
    "version": 3
   },
   "file_extension": ".py",
   "mimetype": "text/x-python",
   "name": "python",
   "nbconvert_exporter": "python",
   "pygments_lexer": "ipython3",
   "version": "3.13.5"
  }
 },
 "nbformat": 4,
 "nbformat_minor": 5
}
