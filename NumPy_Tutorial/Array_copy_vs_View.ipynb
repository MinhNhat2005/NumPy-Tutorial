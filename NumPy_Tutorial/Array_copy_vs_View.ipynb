{
 "cells": [
  {
   "cell_type": "markdown",
   "id": "1243c2a7-d5a4-4fcf-bbab-8d92cb1d01d0",
   "metadata": {},
   "source": [
    "<span style=\"font-size: 30px;\">Copy</span>\n"
   ]
  },
  {
   "cell_type": "code",
   "execution_count": 1,
   "id": "6662d09a-5e58-46b3-a666-e2805ba741e9",
   "metadata": {},
   "outputs": [
    {
     "name": "stdout",
     "output_type": "stream",
     "text": [
      "[42  2  3  4  5]\n",
      "[1 2 3 4 5]\n"
     ]
    }
   ],
   "source": [
    "# Tạo 1 bản copy, thay thế mảng gốc và hiển thị cả 2 mảng\n",
    "import numpy as np\n",
    "arr = np.array([1,2,3,4,5])\n",
    "x = arr.copy()\n",
    "arr[0] = 42\n",
    "\n",
    "print(arr)\n",
    "print(x)"
   ]
  },
  {
   "cell_type": "markdown",
   "id": "d590df88-caae-43fe-8557-1c1813124e28",
   "metadata": {},
   "source": [
    "<span style=\"font-size: 30px;\">Views</span>\n"
   ]
  },
  {
   "cell_type": "code",
   "execution_count": 2,
   "id": "7792be1a-0535-4499-b959-3f7e45d8ad8c",
   "metadata": {},
   "outputs": [
    {
     "name": "stdout",
     "output_type": "stream",
     "text": [
      "[41  2  4  5]\n",
      "[41  2  4  5]\n"
     ]
    }
   ],
   "source": [
    "# Tạo 1 chế độ xem, thay đổi mảng ban đầu và hiển thị cả 2 mảng\n",
    "import numpy as np\n",
    "arr = np.array([1,2,4,5])\n",
    "x = arr.view()\n",
    "arr[0] = 41\n",
    "\n",
    "print(arr)\n",
    "print(x)"
   ]
  },
  {
   "cell_type": "code",
   "execution_count": 3,
   "id": "1fbd31f0-6719-4962-8c8b-b21f58f3b22a",
   "metadata": {},
   "outputs": [
    {
     "name": "stdout",
     "output_type": "stream",
     "text": [
      "[31 23  4  4  5]\n",
      "[31 23  4  4  5]\n"
     ]
    }
   ],
   "source": [
    "# Thực hiện các thay đổi trong views\n",
    "\n",
    "# Tạo chế độ xem, thay đổi chế độ xem và hiển thị cả 2 mảng\n",
    "import numpy as np\n",
    "arr = np.array([1,23,4,4,5])\n",
    "x = arr.view()\n",
    "arr[0] = 31\n",
    "\n",
    "print(arr)\n",
    "print(x)"
   ]
  },
  {
   "cell_type": "code",
   "execution_count": 4,
   "id": "285da958-0b69-49e2-871d-f6be69eeafd5",
   "metadata": {},
   "outputs": [
    {
     "name": "stdout",
     "output_type": "stream",
     "text": [
      "None\n",
      "[1 2 3 4 5]\n"
     ]
    }
   ],
   "source": [
    "# In ra giá truh của thuộc tính cơ sở để kiểm tra xem 1 mảng có sở hữu dữ liệu của nó hay không\n",
    "# Trả về (None nếu nó sở hữu dữ liệu) và trả về (đối tượng gốc nếu đó là không sở hữu dữ liệu)\n",
    "import numpy as np\n",
    "arr = np.array([1,2,3,4,5])\n",
    "x = arr.copy()\n",
    "y = arr.view()\n",
    "\n",
    "print(x.base)\n",
    "print(y.base)"
   ]
  },
  {
   "cell_type": "code",
   "execution_count": null,
   "id": "7cbdda47-930b-42f6-80a2-88900c828298",
   "metadata": {},
   "outputs": [],
   "source": []
  }
 ],
 "metadata": {
  "kernelspec": {
   "display_name": "Python [conda env:base] *",
   "language": "python",
   "name": "conda-base-py"
  },
  "language_info": {
   "codemirror_mode": {
    "name": "ipython",
    "version": 3
   },
   "file_extension": ".py",
   "mimetype": "text/x-python",
   "name": "python",
   "nbconvert_exporter": "python",
   "pygments_lexer": "ipython3",
   "version": "3.13.5"
  }
 },
 "nbformat": 4,
 "nbformat_minor": 5
}
