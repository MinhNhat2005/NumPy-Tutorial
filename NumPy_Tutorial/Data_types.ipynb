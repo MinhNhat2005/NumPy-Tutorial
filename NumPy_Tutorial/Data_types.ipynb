{
 "cells": [
  {
   "cell_type": "markdown",
   "id": "70ba0082-ca06-4ca9-8dfd-68754a798905",
   "metadata": {},
   "source": [
    "<span style=\"font-size: 30px;\">Các kiểu dữ liệu trong NumPy</span>\n"
   ]
  },
  {
   "cell_type": "code",
   "execution_count": 1,
   "id": "e641313c-f647-40dc-89da-dc344e7a057e",
   "metadata": {},
   "outputs": [],
   "source": [
    "# Dưới đây là danh sách tất cả các kiểu dữ liệu trong NumPy và các ký tự được sử dụng để đại diện cho chúng.\n",
    "\n",
    "# i -số nguyên\n",
    "# b -Boolean\n",
    "# u - số nguyên không dấu\n",
    "# f -nổi\n",
    "# c - phao phức tạp\n",
    "# m - đồng bằng thời gian\n",
    "# M - ngày/giờ\n",
    "# O -đối tượng\n",
    "# S -xâu\n",
    "# U - chuỗi unicode\n",
    "# V - cố định đoạn bộ nhớ cho loại khác ( void )"
   ]
  },
  {
   "cell_type": "code",
   "execution_count": 3,
   "id": "0abfc66b-bd6a-4172-98f5-20474224730d",
   "metadata": {},
   "outputs": [
    {
     "name": "stdout",
     "output_type": "stream",
     "text": [
      "int64\n"
     ]
    }
   ],
   "source": [
    "# Kiểm tra kiểu dữ liệu của một mảng: dtype\n",
    "  # Lấy kiểu dữ liệu của một đối tượng mảng:\n",
    "import numpy as np\n",
    "arr = np.array([1,3,4,5])\n",
    "print(arr.dtype)"
   ]
  },
  {
   "cell_type": "code",
   "execution_count": 5,
   "id": "53619442-b2de-4939-bcca-3af9b24c71d4",
   "metadata": {},
   "outputs": [
    {
     "name": "stdout",
     "output_type": "stream",
     "text": [
      "<class 'numpy.ndarray'>\n",
      "<U6\n"
     ]
    }
   ],
   "source": [
    "# Lấy kiểu dữ liệu của 1 mảng chứa chuỗi\n",
    "import numpy\n",
    "arr = numpy.array([\"apple\", \"banana\", \"cherry\"])\n",
    "print(type(arr))\n",
    "print(arr.dtype)"
   ]
  },
  {
   "cell_type": "code",
   "execution_count": 6,
   "id": "7aa42a09-2376-49e7-afa9-a283cc534dc8",
   "metadata": {},
   "outputs": [
    {
     "name": "stdout",
     "output_type": "stream",
     "text": [
      "[b'1' b'2' b'3' b'4']\n",
      "|S1\n"
     ]
    }
   ],
   "source": [
    "# Tạo mảng với dữ liệu xác định\n",
    "import numpy\n",
    "arr = numpy.array([1,2,3,4], dtype= \"S\")\n",
    "print(arr)\n",
    "print(arr.dtype)"
   ]
  },
  {
   "cell_type": "code",
   "execution_count": 7,
   "id": "af495555-3c8e-4375-bf2d-24a771735194",
   "metadata": {},
   "outputs": [
    {
     "name": "stdout",
     "output_type": "stream",
     "text": [
      "[ 1 23  4  5]\n",
      "int32\n"
     ]
    }
   ],
   "source": [
    "# Tạo 1 mảng có kiểu dữ liệu 4 byte integer\n",
    "import numpy as np\n",
    "arr = np.array([1,23,4,5], dtype=\"i4\")\n",
    "print(arr)\n",
    "print(arr.dtype)"
   ]
  },
  {
   "cell_type": "code",
   "execution_count": null,
   "id": "456398fd-df2b-4a73-91ef-222757dc3d65",
   "metadata": {},
   "outputs": [],
   "source": []
  }
 ],
 "metadata": {
  "kernelspec": {
   "display_name": "Python [conda env:base] *",
   "language": "python",
   "name": "conda-base-py"
  },
  "language_info": {
   "codemirror_mode": {
    "name": "ipython",
    "version": 3
   },
   "file_extension": ".py",
   "mimetype": "text/x-python",
   "name": "python",
   "nbconvert_exporter": "python",
   "pygments_lexer": "ipython3",
   "version": "3.13.5"
  }
 },
 "nbformat": 4,
 "nbformat_minor": 5
}
