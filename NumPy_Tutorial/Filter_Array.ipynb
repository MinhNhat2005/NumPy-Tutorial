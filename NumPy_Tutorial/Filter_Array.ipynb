{
 "cells": [
  {
   "cell_type": "markdown",
   "id": "7f8d5635-ce09-4eaf-8b18-fbe7aec4736b",
   "metadata": {},
   "source": [
    "<span style=\"font-size:24px\">Mảng bộ lọc</span>\n"
   ]
  },
  {
   "cell_type": "code",
   "execution_count": 2,
   "id": "214fc872-8d78-4e0d-9463-785711a6dcb4",
   "metadata": {},
   "outputs": [
    {
     "name": "stdout",
     "output_type": "stream",
     "text": [
      "[41 43]\n"
     ]
    }
   ],
   "source": [
    "# Tạo 1 mảng từ các phần tử trên chỉ mục 0 và 2\n",
    "import numpy as np\n",
    "arr = np.array([41,42,43,44])\n",
    "x = [True, False, True, False]\n",
    "newarr = arr[x]\n",
    "print(newarr)"
   ]
  },
  {
   "cell_type": "markdown",
   "id": "bec735bd-36e0-40e3-b767-afbedd685ab0",
   "metadata": {},
   "source": [
    "<span style=\"font-size:24px\">Tạo mảng bộ lọc</span>\n"
   ]
  },
  {
   "cell_type": "code",
   "execution_count": null,
   "id": "5779efa9-e062-4c69-87bb-8ed46a5fcfde",
   "metadata": {},
   "outputs": [],
   "source": [
    "# Tạo 1 mảng bộ lọc sẽ chỉ trả về các giá trị cao hơn 42\n",
    "import numpy as np\n",
    "arr = np.array([41,42,43,44])\n",
    "# Tạo 1 list rỗng\n",
    "filter_arr = []\n",
    "# đi qua từng phần tử trong arr\n",
    "for x in arr:\n",
    "    if x>42:\n",
    "        filter_arr.append(True)\n",
    "    else:\n",
    "        filter_arr.append(False)\n",
    "newarr = arr[filter_arr]\n",
    "print(filter_arr)\n",
    "print(newarr)"
   ]
  },
  {
   "cell_type": "code",
   "execution_count": 4,
   "id": "675be4a7-2845-4ac3-a937-9d72d0831176",
   "metadata": {},
   "outputs": [
    {
     "name": "stdout",
     "output_type": "stream",
     "text": [
      "[False, True, False, True, False, True, False, True, False]\n",
      "[2 4 6 8]\n"
     ]
    }
   ],
   "source": [
    "# tạo 1 mảng bộ lọc sẽ chỉ trả về các phần tử chẵn từ bản gốc mảng\n",
    "import numpy as np\n",
    "arr = np.array([1,2,3,4,5,6,7,8,9])\n",
    "# tạo 1 list rỗng\n",
    "filter_arr =[]\n",
    "# đi qua từng phần tử trong arr\n",
    "for x in arr:\n",
    "    if x%2==0:\n",
    "        filter_arr.append(True)\n",
    "    else:\n",
    "        filter_arr.append(False)\n",
    "newarr = arr[filter_arr]\n",
    "print(filter_arr)\n",
    "print(newarr)"
   ]
  },
  {
   "cell_type": "markdown",
   "id": "2bfdb9b0-a70e-4ea8-9da2-c5695ec500a7",
   "metadata": {},
   "source": [
    "<span style=\"font-size:24px\">Tạo bộ lọc trực tiếp từ mảng</span>\n"
   ]
  },
  {
   "cell_type": "code",
   "execution_count": 5,
   "id": "50e87537-fb4d-4315-bf2d-dd2d525837c0",
   "metadata": {},
   "outputs": [
    {
     "name": "stdout",
     "output_type": "stream",
     "text": [
      "[False False  True  True  True]\n",
      "[43 44 55]\n"
     ]
    }
   ],
   "source": [
    "# Tạo 1 mảng bộ lọc sẽ chỉ trả về các giá trị cao hơn 42\n",
    "import numpy as np\n",
    "arr = np.array([41,42,43,44,55])\n",
    "filter_arr = arr > 42\n",
    "newarr = arr[filter_arr]\n",
    "print(filter_arr)\n",
    "print(newarr)"
   ]
  },
  {
   "cell_type": "code",
   "execution_count": 6,
   "id": "afd2844f-8e45-4eba-b910-baafc8e6dfb4",
   "metadata": {},
   "outputs": [
    {
     "name": "stdout",
     "output_type": "stream",
     "text": [
      "[False  True False  True False  True False  True False  True]\n",
      "[ 2  4  6  8 10]\n"
     ]
    }
   ],
   "source": [
    "# Tạo 1 mảng bộ lọc sẽ chỉ trả về các phần tử chẵn từ mảng gốc\n",
    "import numpy as np\n",
    "arr = np.array([1,2,3,4,5,6,7,8,9,10])\n",
    "filter_arr = arr%2==0\n",
    "newarr = arr[filter_arr]\n",
    "print(filter_arr)\n",
    "print(newarr)"
   ]
  },
  {
   "cell_type": "code",
   "execution_count": null,
   "id": "3c4e25a0-7cd3-44b8-abc8-ab11e0cbbd12",
   "metadata": {},
   "outputs": [],
   "source": []
  }
 ],
 "metadata": {
  "kernelspec": {
   "display_name": "Python [conda env:base] *",
   "language": "python",
   "name": "conda-base-py"
  },
  "language_info": {
   "codemirror_mode": {
    "name": "ipython",
    "version": 3
   },
   "file_extension": ".py",
   "mimetype": "text/x-python",
   "name": "python",
   "nbconvert_exporter": "python",
   "pygments_lexer": "ipython3",
   "version": "3.13.5"
  }
 },
 "nbformat": 4,
 "nbformat_minor": 5
}
