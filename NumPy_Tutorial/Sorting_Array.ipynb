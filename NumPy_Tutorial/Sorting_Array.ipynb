{
 "cells": [
  {
   "cell_type": "markdown",
   "id": "75309b52-e585-43ec-bec5-70ca05c2b3a5",
   "metadata": {},
   "source": [
    "<span style=\"font-size:24px\">Sắp xếp mảng</span>\n"
   ]
  },
  {
   "cell_type": "code",
   "execution_count": 1,
   "id": "124e1342-e863-4464-9124-9f6c34fe654c",
   "metadata": {},
   "outputs": [
    {
     "name": "stdout",
     "output_type": "stream",
     "text": [
      "[1 3 4 6 7]\n"
     ]
    }
   ],
   "source": [
    "# sẮp xếp mảng\n",
    "import numpy as np\n",
    "arr = np.array([1,4,3,7,6])\n",
    "print(np.sort(arr))"
   ]
  },
  {
   "cell_type": "code",
   "execution_count": 2,
   "id": "234abf33-de32-4bbb-bed7-d500b262655b",
   "metadata": {},
   "outputs": [
    {
     "name": "stdout",
     "output_type": "stream",
     "text": [
      "['apple' 'banana' 'cherry' 'orange']\n"
     ]
    }
   ],
   "source": [
    "# sắp xếp mảng theo thứ tự bảng chữ cái\n",
    "import numpy as np\n",
    "arr = np.array([\"apple\", \"cherry\", \"banana\", \"orange\"])\n",
    "print(np.sort(arr))"
   ]
  },
  {
   "cell_type": "code",
   "execution_count": 6,
   "id": "62d80bfa-181e-4e3c-acab-53e84bd8cc32",
   "metadata": {},
   "outputs": [
    {
     "name": "stdout",
     "output_type": "stream",
     "text": [
      "[False  True  True]\n"
     ]
    }
   ],
   "source": [
    "# sắp xếp 1 mảng Boolean\n",
    "import numpy as np\n",
    "arr = np.array([True, False, True])\n",
    "print(np.sort(arr))"
   ]
  },
  {
   "cell_type": "markdown",
   "id": "68a1e61b-41a3-4047-99d2-6b66fd416115",
   "metadata": {},
   "source": [
    "<span style=\"font-size:24px\">Sắp xếp mảng 2-D</span>\n",
    "\n"
   ]
  },
  {
   "cell_type": "code",
   "execution_count": 7,
   "id": "9d984230-dd29-49d7-b4cf-1d965a6b0f26",
   "metadata": {
    "scrolled": true
   },
   "outputs": [
    {
     "name": "stdout",
     "output_type": "stream",
     "text": [
      "[[1 4 7]\n",
      " [0 2 3]]\n"
     ]
    }
   ],
   "source": [
    "# sắp xếp mảng 2-D\n",
    "import numpy as np\n",
    "arr = np.array([[7,1,4],[3,0,2]])\n",
    "print(np.sort(arr))"
   ]
  },
  {
   "cell_type": "code",
   "execution_count": null,
   "id": "1ad88937-50f1-441e-9047-d53e7590156f",
   "metadata": {},
   "outputs": [],
   "source": []
  }
 ],
 "metadata": {
  "kernelspec": {
   "display_name": "Python [conda env:base] *",
   "language": "python",
   "name": "conda-base-py"
  },
  "language_info": {
   "codemirror_mode": {
    "name": "ipython",
    "version": 3
   },
   "file_extension": ".py",
   "mimetype": "text/x-python",
   "name": "python",
   "nbconvert_exporter": "python",
   "pygments_lexer": "ipython3",
   "version": "3.13.5"
  }
 },
 "nbformat": 4,
 "nbformat_minor": 5
}
