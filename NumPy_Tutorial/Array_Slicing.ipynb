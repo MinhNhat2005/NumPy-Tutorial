{
 "cells": [
  {
   "cell_type": "markdown",
   "id": "e94fd142-88ef-4785-bf46-9f25150ff38b",
   "metadata": {},
   "source": [
    "<span style=\"color:red; font-size:24px\">Mảng cắt lát NumPy</span>"
   ]
  },
  {
   "cell_type": "code",
   "execution_count": 1,
   "id": "4ecbf2c1-4099-4e97-8cef-e4d8e47495e0",
   "metadata": {},
   "outputs": [
    {
     "name": "stdout",
     "output_type": "stream",
     "text": [
      "[2 4 5 6]\n"
     ]
    }
   ],
   "source": [
    "# Cắt các phần tử có chỉ mục từ 1 đến 5 của mảng sau\n",
    "import numpy as np\n",
    "arr = np.array([1,2,4,5,6,7,8])\n",
    "print(arr[1:5])"
   ]
  },
  {
   "cell_type": "code",
   "execution_count": 2,
   "id": "003c5e3d-7760-41f0-ad39-9b9658985e98",
   "metadata": {},
   "outputs": [
    {
     "name": "stdout",
     "output_type": "stream",
     "text": [
      "[6 7 8]\n"
     ]
    }
   ],
   "source": [
    "# Cắt các phần tử từ chỉ mục 4 đến cuối mảng\n",
    "import numpy as np\n",
    "arr = np.array([1,2,4,5,6,7,8])\n",
    "print(arr[4:])"
   ]
  },
  {
   "cell_type": "code",
   "execution_count": 3,
   "id": "1333911e-4a86-4e95-9eb4-586e4a073840",
   "metadata": {},
   "outputs": [
    {
     "name": "stdout",
     "output_type": "stream",
     "text": [
      "[1 2 4 5]\n"
     ]
    }
   ],
   "source": [
    "# Cắt các phần tử từ đầu đến chỉ mục 4\n",
    "import numpy as np\n",
    "arr = np.array([1,2,4,5,6,7,8])\n",
    "print(arr[:4])"
   ]
  },
  {
   "cell_type": "markdown",
   "id": "c30ef2a2-ba20-4b70-a3a4-b2ee0452ba91",
   "metadata": {},
   "source": [
    "<span style=\"font-size: 30px;\">Cắt lát tiêu cực</span>\n"
   ]
  },
  {
   "cell_type": "code",
   "execution_count": 4,
   "id": "20686818-4319-45c3-99e3-dc2cad8f5b98",
   "metadata": {},
   "outputs": [
    {
     "name": "stdout",
     "output_type": "stream",
     "text": [
      "[6 7]\n"
     ]
    }
   ],
   "source": [
    "# Cắt từ chỉ mục 3 từ cuối đén chỉ mục 1 từ cuối\n",
    "import numpy as np\n",
    "arr = np.array([1,2,4,5,6,7,8])\n",
    "print(arr[-3:-1])"
   ]
  },
  {
   "cell_type": "markdown",
   "id": "6baff160-ac34-4959-87f5-76f0e8fda9db",
   "metadata": {},
   "source": [
    "<span style=\"font-size: 30px;\">Bước cắt</span>\n"
   ]
  },
  {
   "cell_type": "code",
   "execution_count": 5,
   "id": "b82bcf48-f413-439a-8eec-a7783de09eae",
   "metadata": {},
   "outputs": [
    {
     "name": "stdout",
     "output_type": "stream",
     "text": [
      "[2 5]\n"
     ]
    }
   ],
   "source": [
    "# Trả về mọi phần tử khác từ chỉ mục 1 đến 5\n",
    "import numpy as np\n",
    "arr = np.array([1,2,4,5,6,7,8])\n",
    "print(arr[1:5:2])"
   ]
  },
  {
   "cell_type": "code",
   "execution_count": 7,
   "id": "bfe995f6-3377-434c-92ca-7438494c4ed8",
   "metadata": {},
   "outputs": [
    {
     "name": "stdout",
     "output_type": "stream",
     "text": [
      "[1 4 6 8]\n"
     ]
    }
   ],
   "source": [
    "# Trả về mọi phần tử khác từ toàn bộ mảng\n",
    "import numpy as np\n",
    "arr = np.array([1,2,4,5,6,7,8])\n",
    "print(arr[::2])"
   ]
  },
  {
   "cell_type": "markdown",
   "id": "4cb9a4e4-813d-4043-ba62-83aa3e1d2421",
   "metadata": {},
   "source": [
    "<span style=\"font-size: 30px;\">Cắt mảng 2-D</span>\n"
   ]
  },
  {
   "cell_type": "code",
   "execution_count": 9,
   "id": "67f0dd8f-62b1-44b3-8f86-c1fd849ca4fe",
   "metadata": {},
   "outputs": [
    {
     "name": "stdout",
     "output_type": "stream",
     "text": [
      "[ 8  9 10]\n"
     ]
    }
   ],
   "source": [
    "# từ phần tử thứ 2, cắt các phần tử từ chỉ mục 1 đến 4\n",
    "import numpy as np\n",
    "arr = np.array([[1,2,3,4,5,6], [7,8,9,10,11,12]])\n",
    "print(arr[1, 1:4])"
   ]
  },
  {
   "cell_type": "code",
   "execution_count": 11,
   "id": "c356b580-fe6b-472a-b805-47a464d81a23",
   "metadata": {},
   "outputs": [
    {
     "name": "stdout",
     "output_type": "stream",
     "text": [
      "[3 9]\n"
     ]
    }
   ],
   "source": [
    "# Từ cả 2 phần tử trả về chỉ mục 2\n",
    "import numpy as np\n",
    "arr = np.array([[1,2,3,4,5,6], [7,8,9,10,11,12]])\n",
    "print(arr[0:2, 2])"
   ]
  },
  {
   "cell_type": "code",
   "execution_count": 12,
   "id": "a4dcb8e5-0f1e-4639-b8bd-2c97d8c3a3b1",
   "metadata": {},
   "outputs": [
    {
     "name": "stdout",
     "output_type": "stream",
     "text": [
      "[[ 2  3  4]\n",
      " [ 8  9 10]]\n"
     ]
    }
   ],
   "source": [
    "# Từ cả 2 phần tử , trả về chỉ mục từ 1 đến 4\n",
    "import numpy as np\n",
    "arr = np.array([[1,2,3,4,5,6], [7,8,9,10,11,12]])\n",
    "print(arr[0:2, 1:4])"
   ]
  },
  {
   "cell_type": "code",
   "execution_count": null,
   "id": "3e26df9f-b43f-4cbd-8ffc-d059818127e2",
   "metadata": {},
   "outputs": [],
   "source": []
  }
 ],
 "metadata": {
  "kernelspec": {
   "display_name": "Python [conda env:base] *",
   "language": "python",
   "name": "conda-base-py"
  },
  "language_info": {
   "codemirror_mode": {
    "name": "ipython",
    "version": 3
   },
   "file_extension": ".py",
   "mimetype": "text/x-python",
   "name": "python",
   "nbconvert_exporter": "python",
   "pygments_lexer": "ipython3",
   "version": "3.13.5"
  }
 },
 "nbformat": 4,
 "nbformat_minor": 5
}
