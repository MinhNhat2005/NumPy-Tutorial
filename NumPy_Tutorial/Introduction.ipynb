{
 "cells": [
  {
   "cell_type": "code",
   "execution_count": 2,
   "id": "f7b96e95-3d2d-4b43-8246-e9f2745d1b4a",
   "metadata": {},
   "outputs": [],
   "source": [
    "# NumPy là gì?\n",
    "# NumPy là một thư viện Python được sử dụng để làm việc với mảng.\n",
    "\n",
    "# Nó cũng có các hàm để làm việc trong miền đại số tuyến tính, biến đổi fourier và ma trận.\n",
    "\n",
    "# NumPy được tạo ra vào năm 2005 bởi Travis Oliphant. Nó là một dự án mã nguồn mở và bạn có thể sử dụng nó một cách tự do.\n",
    "\n",
    "# NumPy là viết tắt của Numerical Python."
   ]
  }
 ],
 "metadata": {
  "kernelspec": {
   "display_name": "Python [conda env:base] *",
   "language": "python",
   "name": "conda-base-py"
  },
  "language_info": {
   "codemirror_mode": {
    "name": "ipython",
    "version": 3
   },
   "file_extension": ".py",
   "mimetype": "text/x-python",
   "name": "python",
   "nbconvert_exporter": "python",
   "pygments_lexer": "ipython3",
   "version": "3.13.5"
  }
 },
 "nbformat": 4,
 "nbformat_minor": 5
}
