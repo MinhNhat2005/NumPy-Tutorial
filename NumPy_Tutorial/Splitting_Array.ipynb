{
 "cells": [
  {
   "cell_type": "markdown",
   "id": "928c2897-6dc9-47aa-9177-37001a68261c",
   "metadata": {},
   "source": [
    "<span style=\"font-size:24px\">Tách mảng NumPy</span>\n"
   ]
  },
  {
   "cell_type": "code",
   "execution_count": 1,
   "id": "7373cf57-d68b-4bd1-bbb9-2eb6e623db90",
   "metadata": {},
   "outputs": [
    {
     "name": "stdout",
     "output_type": "stream",
     "text": [
      "[array([1, 2]), array([3, 4]), array([5, 6])]\n"
     ]
    }
   ],
   "source": [
    "# Chia mảng thành 3 phần\n",
    "import numpy\n",
    "arr = numpy.array([1,2,3,4,5,6])\n",
    "newarr = numpy.array_split(arr, 3)\n",
    "print(newarr)"
   ]
  },
  {
   "cell_type": "code",
   "execution_count": 3,
   "id": "229e466a-fd4d-4b8f-9161-04a5ccf2a8e3",
   "metadata": {},
   "outputs": [
    {
     "name": "stdout",
     "output_type": "stream",
     "text": [
      "[array([1, 2]), array([3, 4]), array([5]), array([6])]\n"
     ]
    }
   ],
   "source": [
    "# Chia mảng thành 4 phần \n",
    "import numpy as np\n",
    "arr = np.array([1,2,3,4,5,6])\n",
    "newarr = np.array_split(arr, 4)\n",
    "print(newarr)"
   ]
  },
  {
   "cell_type": "code",
   "execution_count": 6,
   "id": "ae0d180b-65af-4c8f-9648-b5b3a4075dd5",
   "metadata": {},
   "outputs": [
    {
     "name": "stdout",
     "output_type": "stream",
     "text": [
      "arr1 = [1 2]\n",
      "arr2 = [3 4]\n",
      "arr3 = [5 6]\n"
     ]
    }
   ],
   "source": [
    "# truy cập các mảng được tách\n",
    "import numpy as np\n",
    "arr = np.array([1,2,3,4,5,6])\n",
    "newarr = np.array_split(arr, 3)\n",
    "print(\"arr1 =\",newarr[0])\n",
    "print(\"arr2 =\",newarr[1])\n",
    "print(\"arr3 =\",newarr[2])"
   ]
  },
  {
   "cell_type": "code",
   "execution_count": 9,
   "id": "f8f27d8c-133b-4f13-a2ca-2464981a0cf7",
   "metadata": {},
   "outputs": [
    {
     "name": "stdout",
     "output_type": "stream",
     "text": [
      "[array([[1, 2],\n",
      "       [3, 4]]), array([[5, 6],\n",
      "       [7, 8]]), array([[ 9, 10],\n",
      "       [11, 12]])]\n"
     ]
    }
   ],
   "source": [
    "# Tách mảng 2-D thành 3 mảng 2-D\n",
    "import numpy as np\n",
    "arr = np.array([[1,2],[3,4],[5,6],[7,8],[9,10],[11,12]])\n",
    "newarr = np.array_split(arr, 3)\n",
    "print(newarr)"
   ]
  },
  {
   "cell_type": "code",
   "execution_count": 11,
   "id": "31dfd12b-a4ba-48fd-bcee-26af705b077e",
   "metadata": {},
   "outputs": [
    {
     "name": "stdout",
     "output_type": "stream",
     "text": [
      "[array([[1, 2, 2],\n",
      "       [3, 4, 4]]), array([[5, 6, 6],\n",
      "       [7, 8, 8]]), array([[ 9, 10,  9]]), array([[11, 12, 10]])]\n"
     ]
    }
   ],
   "source": [
    "# Tách mảng 2-D thành 3 mảng 2-D\n",
    "import numpy as np\n",
    "arr = np.array([[1,2,2],[3,4,4],[5,6,6],[7,8,8],[9,10,9],[11,12,10]])\n",
    "newarr = np.array_split(arr, 4)\n",
    "print(newarr)"
   ]
  },
  {
   "cell_type": "code",
   "execution_count": 16,
   "id": "e09941d0-2e57-433a-9680-d54abcc084b3",
   "metadata": {},
   "outputs": [
    {
     "name": "stdout",
     "output_type": "stream",
     "text": [
      "[array([[ 1],\n",
      "       [ 3],\n",
      "       [ 5],\n",
      "       [ 7],\n",
      "       [ 9],\n",
      "       [11]]), array([[ 2],\n",
      "       [ 4],\n",
      "       [ 6],\n",
      "       [ 8],\n",
      "       [10],\n",
      "       [12]]), array([[ 2],\n",
      "       [ 4],\n",
      "       [ 6],\n",
      "       [ 8],\n",
      "       [ 9],\n",
      "       [10]])]\n"
     ]
    }
   ],
   "source": [
    "# Chia mảng 2 chiều thành 3 mảng 2 chiều dọc theo các cột\n",
    "import numpy as np\n",
    "arr = np.array([[1,2,2],[3,4,4],[5,6,6],[7,8,8],[9,10,9],[11,12,10]])\n",
    "newarr = np.array_split(arr,3, axis=1)\n",
    "print(newarr)"
   ]
  },
  {
   "cell_type": "code",
   "execution_count": 17,
   "id": "0719b6ed-b44e-4eda-b6bf-bd19a9aba58e",
   "metadata": {},
   "outputs": [
    {
     "name": "stdout",
     "output_type": "stream",
     "text": [
      "[array([[ 1],\n",
      "       [ 3],\n",
      "       [ 5],\n",
      "       [ 7],\n",
      "       [ 9],\n",
      "       [11]]), array([[ 2],\n",
      "       [ 4],\n",
      "       [ 6],\n",
      "       [ 8],\n",
      "       [10],\n",
      "       [12]]), array([[ 2],\n",
      "       [ 4],\n",
      "       [ 6],\n",
      "       [ 8],\n",
      "       [ 9],\n",
      "       [10]])]\n"
     ]
    }
   ],
   "source": [
    "# chia mảng 2-D thành 3 mảng 2-D dọc theo cột: hsplit()\n",
    "import numpy as np\n",
    "arr = np.array([[1,2,2],[3,4,4],[5,6,6],[7,8,8],[9,10,9],[11,12,10]])\n",
    "newarr = np.hsplit(arr, 3)\n",
    "print(newarr)"
   ]
  },
  {
   "cell_type": "code",
   "execution_count": null,
   "id": "f748ab5e-e6e1-4b70-ab29-e41bdcdd8e9d",
   "metadata": {},
   "outputs": [],
   "source": []
  },
  {
   "cell_type": "code",
   "execution_count": null,
   "id": "0d62b486-3ce1-4e95-830c-e158c1105aa0",
   "metadata": {},
   "outputs": [],
   "source": []
  }
 ],
 "metadata": {
  "kernelspec": {
   "display_name": "Python [conda env:base] *",
   "language": "python",
   "name": "conda-base-py"
  },
  "language_info": {
   "codemirror_mode": {
    "name": "ipython",
    "version": 3
   },
   "file_extension": ".py",
   "mimetype": "text/x-python",
   "name": "python",
   "nbconvert_exporter": "python",
   "pygments_lexer": "ipython3",
   "version": "3.13.5"
  }
 },
 "nbformat": 4,
 "nbformat_minor": 5
}
