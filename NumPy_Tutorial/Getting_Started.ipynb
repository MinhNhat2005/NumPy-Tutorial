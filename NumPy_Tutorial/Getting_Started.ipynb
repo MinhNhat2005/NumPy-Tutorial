{
 "cells": [
  {
   "cell_type": "code",
   "execution_count": 1,
   "id": "d00bba2d-62b3-4050-a713-2302307bf40f",
   "metadata": {},
   "outputs": [],
   "source": [
    "#  Nhập NumPy\n",
    "import numpy"
   ]
  },
  {
   "cell_type": "code",
   "execution_count": 2,
   "id": "c5fb57db-a2b0-4e3b-8b0c-89bacc76a6b4",
   "metadata": {},
   "outputs": [
    {
     "name": "stdout",
     "output_type": "stream",
     "text": [
      "[1 2 3 4 5]\n",
      "<class 'numpy.ndarray'>\n"
     ]
    }
   ],
   "source": [
    "# Tạo 1 mảng NumPy\n",
    "import numpy\n",
    "arr = numpy.array([1,2,3,4,5])\n",
    "print(arr)\n",
    "print(type(arr))"
   ]
  },
  {
   "cell_type": "code",
   "execution_count": 3,
   "id": "b1accd01-c8df-47cf-ba03-b51e32c5fcf2",
   "metadata": {},
   "outputs": [
    {
     "name": "stdout",
     "output_type": "stream",
     "text": [
      "[1 2 3 4 5]\n",
      "<class 'numpy.ndarray'>\n"
     ]
    }
   ],
   "source": [
    "# tạo bí danh cho NumPy\n",
    "import numpy as np\n",
    "mang = np.array([1,2,3,4,5])\n",
    "print(mang)\n",
    "print(type(mang))"
   ]
  },
  {
   "cell_type": "code",
   "execution_count": 4,
   "id": "9e04b003-93b3-4bf3-aa3a-2680002a8288",
   "metadata": {},
   "outputs": [
    {
     "name": "stdout",
     "output_type": "stream",
     "text": [
      "2.1.3\n"
     ]
    }
   ],
   "source": [
    "# Kiểm tra phiên bản NumPy\n",
    "import numpy as np\n",
    "print(np.__version__)"
   ]
  }
 ],
 "metadata": {
  "kernelspec": {
   "display_name": "Python [conda env:base] *",
   "language": "python",
   "name": "conda-base-py"
  },
  "language_info": {
   "codemirror_mode": {
    "name": "ipython",
    "version": 3
   },
   "file_extension": ".py",
   "mimetype": "text/x-python",
   "name": "python",
   "nbconvert_exporter": "python",
   "pygments_lexer": "ipython3",
   "version": "3.13.5"
  }
 },
 "nbformat": 4,
 "nbformat_minor": 5
}
