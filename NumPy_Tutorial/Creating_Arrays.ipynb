{
 "cells": [
  {
   "cell_type": "code",
   "execution_count": 1,
   "id": "4b9c8dd3-a3da-4501-a098-1d2fecece68b",
   "metadata": {},
   "outputs": [
    {
     "name": "stdout",
     "output_type": "stream",
     "text": [
      "[1 2 3 4 5]\n",
      "<class 'numpy.ndarray'>\n"
     ]
    }
   ],
   "source": [
    "# Tạo một đối tượng ndarray NumPy\n",
    "import numpy as np\n",
    "arr = np.array([1, 2, 3, 4, 5])\n",
    "print(arr)\n",
    "print(type(arr))"
   ]
  },
  {
   "cell_type": "code",
   "execution_count": 2,
   "id": "7ccd3a8f-5985-4d32-9a79-1807c779f061",
   "metadata": {},
   "outputs": [
    {
     "name": "stdout",
     "output_type": "stream",
     "text": [
      "[1 2 3 4 5]\n"
     ]
    }
   ],
   "source": [
    "# Sử dụng một bộ để tạo một mảng NumPy:\n",
    "import numpy as np\n",
    "arr = np.array((1, 2, 3, 4, 5))\n",
    "print(arr)"
   ]
  },
  {
   "cell_type": "code",
   "execution_count": 4,
   "id": "62f71cfb-376e-44e1-ad31-391e248a0b22",
   "metadata": {},
   "outputs": [
    {
     "name": "stdout",
     "output_type": "stream",
     "text": [
      "42\n",
      "số chiều : 0\n"
     ]
    }
   ],
   "source": [
    "# Mảng 0-D, hoặc Vô hướng, là các phần tử trong một mảng. Mỗi giá trị trong một mảng là một mảng 0-D.\n",
    "  # Tạo một mảng 0-D với giá trị 42\n",
    "import numpy as np\n",
    "arr = np.array(42)\n",
    "print(arr)\n",
    "print(\"số chiều :\", arr.ndim)"
   ]
  },
  {
   "cell_type": "code",
   "execution_count": 5,
   "id": "3f2953c4-924f-43df-add9-c757c2991069",
   "metadata": {},
   "outputs": [
    {
     "name": "stdout",
     "output_type": "stream",
     "text": [
      "[1 2 3 4 5]\n",
      "số chiều : 1\n"
     ]
    }
   ],
   "source": [
    "# Mảng 1-D Một mảng có mảng 0-D làm phần tử của nó được gọi là mảng đơn chiều hoặc mảng 1-D.\n",
    "  # Tạo một mảng 1-D chứa các giá trị 1,2,3,4,5:\n",
    "import numpy as np\n",
    "arr = np.array([1, 2, 3, 4, 5])\n",
    "print(arr)\n",
    "print(\"số chiều :\", arr.ndim)"
   ]
  },
  {
   "cell_type": "code",
   "execution_count": 6,
   "id": "5acdf8ee-3c66-4e47-bdea-011c22536a60",
   "metadata": {},
   "outputs": [
    {
     "name": "stdout",
     "output_type": "stream",
     "text": [
      "[[1 2 3]\n",
      " [4 5 6]]\n",
      "số chiều : 2\n"
     ]
    }
   ],
   "source": [
    "# Mảng 2-D Một mảng có mảng 1-D làm các phần tử của nó được gọi là mảng 2-D.\n",
    "  # Tạo một mảng 2-D chứa hai mảng có giá trị 1,2,3 và 4,5,6:\n",
    "import numpy as np\n",
    "arr = np.array([[1, 2, 3], [4, 5, 6]])\n",
    "print(arr)\n",
    "print(\"số chiều :\", arr.ndim)"
   ]
  },
  {
   "cell_type": "code",
   "execution_count": 7,
   "id": "393add9e-812f-43c9-80cd-5c2b9dd50857",
   "metadata": {},
   "outputs": [
    {
     "name": "stdout",
     "output_type": "stream",
     "text": [
      "[[[1 2 3]\n",
      "  [4 5 6]]\n",
      "\n",
      " [[1 2 3]\n",
      "  [4 5 6]]]\n",
      "số chiều : 3\n"
     ]
    }
   ],
   "source": [
    "# Mảng 3-D Một mảng có mảng 2-D (ma trận) làm các phần tử của nó được gọi là mảng 3-D.\n",
    "  # Tạo một mảng 3D với hai mảng 2D, cả hai đều chứa hai mảng với giá trị 1,2,3 và 4,5,6:\n",
    "import numpy as np\n",
    "arr = np.array([[[1, 2, 3], [4, 5, 6]], [[1, 2, 3], [4, 5, 6]]])\n",
    "print(arr)\n",
    "print(\"số chiều :\", arr.ndim)"
   ]
  },
  {
   "cell_type": "code",
   "execution_count": 9,
   "id": "12a50e40-8cdc-456a-ac80-4aabed555dc7",
   "metadata": {},
   "outputs": [
    {
     "name": "stdout",
     "output_type": "stream",
     "text": [
      "Số chiều : 0\n",
      "Số chiều : 1\n",
      "Số chiều : 2\n",
      "Số chiều : 3\n"
     ]
    }
   ],
   "source": [
    "# Kiểm tra số lượng kích thước: ndim (Kiểm tra các mảng có bao nhiêu chiều:)\n",
    "import numpy as np\n",
    "a = np.array(42)\n",
    "b = np.array([1,2,3])\n",
    "c = np.array([[1,2,3],[4,5,6]])\n",
    "d = np.array([[[1,2,3],[4,5,6]],[[1,2,3],[4,5,6]]])\n",
    "\n",
    "print(\"Số chiều :\",a.ndim)\n",
    "print(\"Số chiều :\",b.ndim)\n",
    "print(\"Số chiều :\",c.ndim)\n",
    "print(\"Số chiều :\",d.ndim)"
   ]
  },
  {
   "cell_type": "code",
   "execution_count": 11,
   "id": "144cc853-a98e-48c7-95c9-3296b9ac8804",
   "metadata": {},
   "outputs": [
    {
     "name": "stdout",
     "output_type": "stream",
     "text": [
      "[[[[[1 2 3 4]]]]]\n",
      "Số chiều : 5\n"
     ]
    }
   ],
   "source": [
    "# Mảng nhiều chiều hơn (một mảng có thể có bất kỳ số lượng chiều nào, để xác định số chiều bằng cách lập luận : ndim)\n",
    "  # Tạo 1 mảng 5 chiều và xác minh rằng nó có 5 chiều\n",
    "import numpy as np\n",
    "arr = np.array([1,2,3,4], ndmin=5)\n",
    "print(arr)\n",
    "print(\"Số chiều :\", arr.ndim)"
   ]
  }
 ],
 "metadata": {
  "kernelspec": {
   "display_name": "Python [conda env:base] *",
   "language": "python",
   "name": "conda-base-py"
  },
  "language_info": {
   "codemirror_mode": {
    "name": "ipython",
    "version": 3
   },
   "file_extension": ".py",
   "mimetype": "text/x-python",
   "name": "python",
   "nbconvert_exporter": "python",
   "pygments_lexer": "ipython3",
   "version": "3.13.5"
  }
 },
 "nbformat": 4,
 "nbformat_minor": 5
}
